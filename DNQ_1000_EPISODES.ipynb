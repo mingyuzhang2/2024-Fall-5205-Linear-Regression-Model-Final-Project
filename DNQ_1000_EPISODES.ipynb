{
 "cells": [
  {
   "cell_type": "code",
   "execution_count": 1,
   "id": "84b045f0",
   "metadata": {},
   "outputs": [
    {
     "name": "stderr",
     "output_type": "stream",
     "text": [
      "2024-12-20 11:31:04.731858: I external/local_xla/xla/tsl/cuda/cudart_stub.cc:32] Could not find cuda drivers on your machine, GPU will not be used.\n",
      "2024-12-20 11:31:04.735733: I external/local_xla/xla/tsl/cuda/cudart_stub.cc:32] Could not find cuda drivers on your machine, GPU will not be used.\n",
      "2024-12-20 11:31:04.748334: E external/local_xla/xla/stream_executor/cuda/cuda_fft.cc:477] Unable to register cuFFT factory: Attempting to register factory for plugin cuFFT when one has already been registered\n",
      "WARNING: All log messages before absl::InitializeLog() is called are written to STDERR\n",
      "E0000 00:00:1734694264.769091    4811 cuda_dnn.cc:8310] Unable to register cuDNN factory: Attempting to register factory for plugin cuDNN when one has already been registered\n",
      "E0000 00:00:1734694264.775223    4811 cuda_blas.cc:1418] Unable to register cuBLAS factory: Attempting to register factory for plugin cuBLAS when one has already been registered\n",
      "2024-12-20 11:31:04.796672: I tensorflow/core/platform/cpu_feature_guard.cc:210] This TensorFlow binary is optimized to use available CPU instructions in performance-critical operations.\n",
      "To enable the following instructions: AVX2 AVX512F FMA, in other operations, rebuild TensorFlow with the appropriate compiler flags.\n"
     ]
    }
   ],
   "source": [
    "import numpy as np\n",
    "import random\n",
    "import tensorflow as tf\n",
    "from collections import deque\n",
    "import gym\n",
    "import matplotlib.pyplot as plt\n",
    "import os\n",
    "import time\n",
    "\n",
    "!export TF_CPP_MIN_LOG_LEVEL=3"
   ]
  },
  {
   "cell_type": "code",
   "execution_count": 2,
   "id": "6e6e6a4e",
   "metadata": {},
   "outputs": [],
   "source": [
    "LEARNING_RATE = 0.001\n",
    "GAMMA = 0.99\n",
    "EPISODES = 1000\n",
    "BATCH_SIZE = 64\n",
    "MEMORY_SIZE = 10000\n",
    "UPDATE_FREQUENCY = 100\n",
    "epsilon = 1.0\n",
    "epsilon_min = 0.01\n",
    "epsilon_decay = 0.995\n",
    "reward_threshold = 195\n",
    "convergence_window = 100"
   ]
  },
  {
   "cell_type": "code",
   "execution_count": 3,
   "id": "6f347759",
   "metadata": {},
   "outputs": [],
   "source": [
    "env = gym.make('CartPole-v1')"
   ]
  },
  {
   "cell_type": "code",
   "execution_count": 4,
   "id": "3ee47f91",
   "metadata": {},
   "outputs": [],
   "source": [
    "class QNetwork(tf.keras.Model):\n",
    "    def __init__(self, action_space):\n",
    "        super(QNetwork, self).__init__()\n",
    "        self.dense1 = tf.keras.layers.Dense(24, activation='relu')\n",
    "        self.dense2 = tf.keras.layers.Dense(24, activation='relu')\n",
    "        self.out = tf.keras.layers.Dense(action_space, activation='linear')\n",
    "\n",
    "    def call(self, x):\n",
    "        x = self.dense1(x)\n",
    "        x = self.dense2(x)\n",
    "        return self.out(x)"
   ]
  },
  {
   "cell_type": "code",
   "execution_count": 5,
   "id": "67c32535",
   "metadata": {},
   "outputs": [],
   "source": [
    "class ReplayBuffer:\n",
    "    def __init__(self, capacity):\n",
    "        self.buffer = deque(maxlen=capacity)\n",
    "\n",
    "    def add(self, experience):\n",
    "        self.buffer.append(experience)\n",
    "\n",
    "    def sample(self, batch_size):\n",
    "        return random.sample(self.buffer, batch_size)\n",
    "\n",
    "    def size(self):\n",
    "        return len(self.buffer)\n",
    "\n",
    "def epsilon_greedy_policy(state, epsilon, model, action_space):\n",
    "    if random.random() < epsilon:\n",
    "        return random.choice(range(action_space))\n",
    "    else:\n",
    "        state = np.expand_dims(state, axis=0)\n",
    "        q_values = model(state)\n",
    "        return np.argmax(q_values.numpy())"
   ]
  },
  {
   "cell_type": "code",
   "execution_count": 6,
   "id": "476ab7a4",
   "metadata": {},
   "outputs": [],
   "source": [
    "def train_dqn(model, target_model, memory, batch_size, gamma, optimizer):\n",
    "    if memory.size() < batch_size:\n",
    "        return\n",
    "\n",
    "    batch = memory.sample(batch_size)\n",
    "    states, actions, rewards, next_states, dones = zip(*batch)\n",
    "\n",
    "    states = np.array(states)\n",
    "    next_states = np.array(next_states)\n",
    "\n",
    "    with tf.GradientTape() as tape:\n",
    "        q_values = model(states)\n",
    "        next_q_values = target_model(next_states)\n",
    "        \n",
    "        target_q_values = q_values.numpy()\n",
    "        for i in range(batch_size):\n",
    "            if dones[i]:\n",
    "                target_q_values[i][actions[i]] = rewards[i]\n",
    "            else:\n",
    "                target_q_values[i][actions[i]] = rewards[i] + gamma * np.max(next_q_values[i])  # 非终止状态\n",
    "\n",
    "        target_q_values = tf.convert_to_tensor(target_q_values, dtype=tf.float32)\n",
    "        loss = tf.reduce_mean(tf.square(q_values - target_q_values))\n",
    "\n",
    "    grads = tape.gradient(loss, model.trainable_variables)\n",
    "    optimizer.apply_gradients(zip(grads, model.trainable_variables))\n"
   ]
  },
  {
   "cell_type": "code",
   "execution_count": 7,
   "id": "ae7cdc6c",
   "metadata": {},
   "outputs": [],
   "source": [
    "action_space = env.action_space.n\n",
    "model = QNetwork(action_space)\n",
    "target_model = QNetwork(action_space)\n",
    "target_model.set_weights(model.get_weights())"
   ]
  },
  {
   "cell_type": "code",
   "execution_count": 8,
   "id": "3a2e632e",
   "metadata": {},
   "outputs": [],
   "source": [
    "replay_buffer = ReplayBuffer(MEMORY_SIZE)"
   ]
  },
  {
   "cell_type": "code",
   "execution_count": 9,
   "id": "0ac9b4e4",
   "metadata": {},
   "outputs": [
    {
     "name": "stderr",
     "output_type": "stream",
     "text": [
      "2024-12-20 11:31:15.926377: E external/local_xla/xla/stream_executor/cuda/cuda_driver.cc:152] failed call to cuInit: INTERNAL: CUDA error: Failed call to cuInit: UNKNOWN ERROR (303)\n"
     ]
    }
   ],
   "source": [
    "optimizer = tf.keras.optimizers.Adam(learning_rate=LEARNING_RATE)"
   ]
  },
  {
   "cell_type": "code",
   "execution_count": 10,
   "id": "5b8224ca",
   "metadata": {},
   "outputs": [
    {
     "name": "stderr",
     "output_type": "stream",
     "text": [
      "/opt/conda/lib/python3.10/site-packages/gym/utils/passive_env_checker.py:233: DeprecationWarning: `np.bool8` is a deprecated alias for `np.bool_`.  (Deprecated NumPy 1.24)\n",
      "  if not isinstance(terminated, (bool, np.bool8)):\n"
     ]
    },
    {
     "name": "stdout",
     "output_type": "stream",
     "text": [
      "Episode 0, Total Reward: 12.0, Time: 0.00 seconds\n",
      "Episode 10, Total Reward: 13.0, Time: 0.55 seconds\n",
      "Episode 20, Total Reward: 14.0, Time: 0.59 seconds\n",
      "Episode 30, Total Reward: 12.0, Time: 0.51 seconds\n",
      "Episode 40, Total Reward: 11.0, Time: 0.46 seconds\n",
      "Episode 50, Total Reward: 13.0, Time: 0.55 seconds\n",
      "Episode 60, Total Reward: 10.0, Time: 0.43 seconds\n",
      "Episode 70, Total Reward: 21.0, Time: 0.88 seconds\n",
      "Episode 80, Total Reward: 11.0, Time: 0.46 seconds\n",
      "Episode 90, Total Reward: 15.0, Time: 0.63 seconds\n",
      "Episode 100, Total Reward: 16.0, Time: 0.67 seconds\n",
      "Episode 110, Total Reward: 29.0, Time: 1.18 seconds\n",
      "Episode 120, Total Reward: 13.0, Time: 0.52 seconds\n",
      "Episode 130, Total Reward: 11.0, Time: 0.45 seconds\n",
      "Episode 140, Total Reward: 12.0, Time: 0.48 seconds\n",
      "Episode 150, Total Reward: 12.0, Time: 0.48 seconds\n",
      "Episode 160, Total Reward: 9.0, Time: 0.36 seconds\n",
      "Episode 170, Total Reward: 8.0, Time: 0.33 seconds\n",
      "Episode 180, Total Reward: 13.0, Time: 0.52 seconds\n",
      "Episode 190, Total Reward: 14.0, Time: 0.55 seconds\n",
      "Episode 200, Total Reward: 11.0, Time: 0.44 seconds\n",
      "Episode 210, Total Reward: 10.0, Time: 0.40 seconds\n",
      "Episode 220, Total Reward: 10.0, Time: 0.40 seconds\n",
      "Episode 230, Total Reward: 13.0, Time: 0.52 seconds\n",
      "Episode 240, Total Reward: 13.0, Time: 0.53 seconds\n",
      "Episode 250, Total Reward: 11.0, Time: 0.45 seconds\n",
      "Episode 260, Total Reward: 16.0, Time: 0.64 seconds\n",
      "Episode 270, Total Reward: 16.0, Time: 0.63 seconds\n",
      "Episode 280, Total Reward: 12.0, Time: 0.48 seconds\n",
      "Episode 290, Total Reward: 11.0, Time: 0.45 seconds\n",
      "Episode 300, Total Reward: 12.0, Time: 0.48 seconds\n",
      "Episode 310, Total Reward: 28.0, Time: 1.12 seconds\n",
      "Episode 320, Total Reward: 13.0, Time: 0.52 seconds\n",
      "Episode 330, Total Reward: 12.0, Time: 0.47 seconds\n",
      "Episode 340, Total Reward: 27.0, Time: 1.10 seconds\n",
      "Episode 350, Total Reward: 12.0, Time: 0.48 seconds\n",
      "Episode 360, Total Reward: 33.0, Time: 1.39 seconds\n",
      "Episode 370, Total Reward: 25.0, Time: 1.02 seconds\n",
      "Episode 380, Total Reward: 20.0, Time: 0.80 seconds\n",
      "Episode 390, Total Reward: 28.0, Time: 1.12 seconds\n",
      "Episode 400, Total Reward: 25.0, Time: 1.00 seconds\n",
      "Episode 410, Total Reward: 33.0, Time: 1.32 seconds\n",
      "Episode 420, Total Reward: 50.0, Time: 2.02 seconds\n",
      "Episode 430, Total Reward: 45.0, Time: 1.83 seconds\n",
      "Episode 440, Total Reward: 76.0, Time: 3.04 seconds\n",
      "Episode 450, Total Reward: 12.0, Time: 0.48 seconds\n",
      "Episode 460, Total Reward: 40.0, Time: 1.64 seconds\n",
      "Episode 470, Total Reward: 55.0, Time: 2.22 seconds\n",
      "Episode 480, Total Reward: 41.0, Time: 1.66 seconds\n",
      "Episode 490, Total Reward: 45.0, Time: 1.85 seconds\n",
      "Episode 500, Total Reward: 45.0, Time: 1.80 seconds\n",
      "Episode 510, Total Reward: 82.0, Time: 3.29 seconds\n",
      "Episode 520, Total Reward: 68.0, Time: 2.74 seconds\n",
      "Episode 530, Total Reward: 59.0, Time: 2.35 seconds\n",
      "Episode 540, Total Reward: 73.0, Time: 3.02 seconds\n",
      "Episode 550, Total Reward: 77.0, Time: 3.11 seconds\n",
      "Episode 560, Total Reward: 27.0, Time: 1.08 seconds\n",
      "Episode 570, Total Reward: 26.0, Time: 1.03 seconds\n",
      "Episode 580, Total Reward: 69.0, Time: 2.80 seconds\n",
      "Episode 590, Total Reward: 105.0, Time: 4.34 seconds\n",
      "Episode 600, Total Reward: 99.0, Time: 4.07 seconds\n",
      "Episode 610, Total Reward: 184.0, Time: 7.46 seconds\n",
      "Episode 620, Total Reward: 142.0, Time: 5.78 seconds\n",
      "Episode 630, Total Reward: 167.0, Time: 6.72 seconds\n",
      "Episode 640, Total Reward: 172.0, Time: 6.98 seconds\n",
      "Episode 650, Total Reward: 120.0, Time: 4.88 seconds\n",
      "Episode 660, Total Reward: 99.0, Time: 4.01 seconds\n",
      "Episode 670, Total Reward: 120.0, Time: 4.89 seconds\n",
      "Episode 680, Total Reward: 113.0, Time: 4.50 seconds\n",
      "Episode 690, Total Reward: 123.0, Time: 4.98 seconds\n",
      "Episode 700, Total Reward: 141.0, Time: 5.66 seconds\n",
      "Episode 710, Total Reward: 132.0, Time: 5.42 seconds\n",
      "Episode 720, Total Reward: 129.0, Time: 5.22 seconds\n",
      "Episode 730, Total Reward: 130.0, Time: 5.18 seconds\n",
      "Episode 740, Total Reward: 123.0, Time: 4.92 seconds\n",
      "Episode 750, Total Reward: 136.0, Time: 5.53 seconds\n",
      "Episode 760, Total Reward: 123.0, Time: 4.92 seconds\n",
      "Episode 770, Total Reward: 129.0, Time: 5.16 seconds\n",
      "Episode 780, Total Reward: 121.0, Time: 4.93 seconds\n",
      "Episode 790, Total Reward: 133.0, Time: 5.35 seconds\n",
      "Episode 800, Total Reward: 118.0, Time: 4.75 seconds\n",
      "Episode 810, Total Reward: 109.0, Time: 4.36 seconds\n",
      "Episode 820, Total Reward: 110.0, Time: 4.47 seconds\n",
      "Episode 830, Total Reward: 115.0, Time: 4.59 seconds\n",
      "Episode 840, Total Reward: 102.0, Time: 4.13 seconds\n",
      "Episode 850, Total Reward: 102.0, Time: 4.08 seconds\n",
      "Episode 860, Total Reward: 106.0, Time: 4.25 seconds\n",
      "Episode 870, Total Reward: 129.0, Time: 5.16 seconds\n",
      "Episode 880, Total Reward: 96.0, Time: 3.80 seconds\n",
      "Episode 890, Total Reward: 94.0, Time: 3.87 seconds\n",
      "Episode 900, Total Reward: 95.0, Time: 3.84 seconds\n",
      "Episode 910, Total Reward: 104.0, Time: 4.21 seconds\n",
      "Episode 920, Total Reward: 95.0, Time: 3.92 seconds\n",
      "Episode 930, Total Reward: 102.0, Time: 4.12 seconds\n",
      "Episode 940, Total Reward: 101.0, Time: 4.03 seconds\n",
      "Episode 950, Total Reward: 93.0, Time: 3.73 seconds\n",
      "Episode 960, Total Reward: 97.0, Time: 3.91 seconds\n",
      "Episode 970, Total Reward: 101.0, Time: 4.02 seconds\n",
      "Episode 980, Total Reward: 95.0, Time: 3.85 seconds\n",
      "Episode 990, Total Reward: 93.0, Time: 3.80 seconds\n",
      "Total training time: 2569.88 seconds\n"
     ]
    }
   ],
   "source": [
    "reward_list = []\n",
    "\n",
    "if os.path.exists('reward_list.pkl'):\n",
    "    with open('reward_list.pkl', 'rb') as f:\n",
    "        reward_list = pickle.load(f)\n",
    "        print(f\"Loaded reward list with {len(reward_list)} episodes.\")\n",
    "        \n",
    "start_time = time.time()\n",
    "\n",
    "for episode in range(len(reward_list), EPISODES):\n",
    "    episode_start_time = time.time()\n",
    "    state = env.reset()[0]\n",
    "    total_reward = 0\n",
    "    done = False\n",
    "\n",
    "    while not done:\n",
    "        action = epsilon_greedy_policy(state, epsilon, model, action_space)\n",
    "        next_state, reward, done, _, _ = env.step(action)\n",
    "\n",
    "        replay_buffer.add((state, action, reward, next_state, done))\n",
    "        \n",
    "        state = next_state\n",
    "        total_reward += reward\n",
    "\n",
    "        train_dqn(model, target_model, replay_buffer, BATCH_SIZE, GAMMA, optimizer)\n",
    "\n",
    "    epsilon = max(epsilon_min, epsilon * epsilon_decay)\n",
    "\n",
    "    if episode % UPDATE_FREQUENCY == 0:\n",
    "        target_model.set_weights(model.get_weights())\n",
    "\n",
    "    reward_list.append(total_reward)\n",
    "\n",
    "    if episode % 10 == 0:\n",
    "        with open('reward_list.pkl', 'wb') as f:\n",
    "            pickle.dump(reward_list, f)\n",
    "        episode_end_time = time.time()\n",
    "        elapsed_time = episode_end_time - episode_start_time\n",
    "        print(f\"Episode {episode}, Total Reward: {total_reward}, Time: {elapsed_time:.2f} seconds\")\n",
    "\n",
    "        \n",
    "    if episode >= convergence_window and np.mean(reward_list[-convergence_window:]) >= reward_threshold:\n",
    "        print(f\"Converged at episode {episode}, Average Reward: {np.mean(reward_list[-convergence_window:]):.2f}\")\n",
    "        break\n",
    "\n",
    "        \n",
    "end_time = time.time()\n",
    "training_time = end_time - start_time\n",
    "print(f\"Total training time: {training_time:.2f} seconds\")"
   ]
  },
  {
   "cell_type": "code",
   "execution_count": 11,
   "id": "1416127c",
   "metadata": {},
   "outputs": [
    {
     "data": {
      "image/png": "[encoded data removed]",
      "text/plain": [
       "<Figure size 640x480 with 1 Axes>"
      ]
     },
     "metadata": {},
     "output_type": "display_data"
    }
   ],
   "source": [
    "plt.plot(reward_list)\n",
    "plt.xlabel('Episode')\n",
    "plt.ylabel('Total Reward')\n",
    "plt.title('Total Reward during DQN Training')\n",
    "plt.show()"
   ]
  }
 ],
 "metadata": {
  "kernelspec": {
   "display_name": "Python 3",
   "language": "python",
   "name": "python3"
  },
  "language_info": {
   "codemirror_mode": {
    "name": "ipython",
    "version": 3
   },
   "file_extension": ".py",
   "mimetype": "text/x-python",
   "name": "python",
   "nbconvert_exporter": "python",
   "pygments_lexer": "ipython3",
   "version": "3.10.15"
  }
 },
 "nbformat": 4,
 "nbformat_minor": 5
}
